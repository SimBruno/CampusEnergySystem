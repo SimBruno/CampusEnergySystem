{
 "cells": [
  {
   "cell_type": "code",
   "execution_count": 2,
   "metadata": {},
   "outputs": [],
   "source": [
    "### MOES tests\n",
    "\n",
    "import numpy as np; from numpy import matlib\n",
    "import pandas as pd\n",
    "import matplotlib.pyplot as plt\n",
    "import seaborn as sns\n",
    "import os"
   ]
  },
  {
   "cell_type": "code",
   "execution_count": 3,
   "metadata": {},
   "outputs": [
    {
     "data": {
      "text/plain": [
       "1    10267\n",
       "Name: Ground, dtype: int64"
      ]
     },
     "execution_count": 3,
     "metadata": {},
     "output_type": "execute_result"
    }
   ],
   "source": [
    "path = os.getcwd() # the path to codes_01_energy_demand.py\n",
    "\n",
    "weather = pd.read_csv(os.path.join(path, \"Weather.csv\"),header=0,encoding = 'unicode_escape')\n",
    "weather.columns = ['Temp', 'Irr']\n",
    "\n",
    "buildings = pd.read_csv(os.path.join(path, \"Buildings.csv\"),header=0,encoding = 'unicode_escape')\n",
    "buildings.columns = ['Name', 'Year', 'Ground', 'Heat', 'Elec']\n",
    "ground = buildings['Ground'].loc[buildings.Name=='BS']\n",
    "ground"
   ]
  },
  {
   "cell_type": "code",
   "execution_count": 60,
   "metadata": {},
   "outputs": [
    {
     "data": {
      "text/plain": [
       "3640"
      ]
     },
     "execution_count": 60,
     "metadata": {},
     "output_type": "execute_result"
    }
   ],
   "source": [
    "occ_off=[0,0,0,0,0,0,0,0.2,0.4,0.6,0.8,0.8,0.4,0.6,0.8,0.8,0.4,0.2,0,0,0,0,0,0] # occupancy profile of offices\n",
    "occ_class=[0,0,0,0,0,0,0,0.4,0.6,1,1,0.8,0.2,0.6,1,0.8,0.8,0.4,0,0,0,0,0,0] #occupancy profile of classrooms\n",
    "occ_can=[0,0,0,0,0,0,0,0,0.4,0.2,0.4,1,0.4,0.2,0.4,0,0,0,0,0,0,0,0,0] #occupancy profile of canteens\n",
    "weekday_elec=[0,0,0,0,0,0,0,1,1,1,1,1,1,1,1,1,1,1,1,1,1,0,0,0] # electricity profile of weekdays\n",
    "\n",
    "occ_all = pd.DataFrame({'Office': occ_off, 'Class': occ_class, 'Restaurant': occ_can, 'Electricity': weekday_elec})\n",
    "start_date = '2023-01-01'\n",
    "end_date = '2024-01-01'\n",
    "date_range = pd.date_range(start=start_date, end=end_date, freq='H', inclusive='right')\n",
    "\n",
    "occupancy = occ_all # initialize\n",
    "while len(occupancy) < len(date_range): #extend to a year\n",
    "    occupancy= pd.concat([occupancy, occ_all], ignore_index=True)\n",
    "\n",
    "occupancy = occupancy.iloc[0:len(date_range),:]  # drop extra rows \n",
    "occupancy['Date'] = pd.DataFrame({'Date': date_range}) \n",
    "occupancy['DayType'] = np.where(occupancy['Date'].dt.weekday < 5, 'Weekday', 'Weekend') # add day type\n",
    "occupancy.loc[occupancy.DayType == 'Weekend', ['Office', 'Class', 'Restaurant', 'Electricity']] = 0 # set weekend occupancy to 0\n",
    "#occ_year[['Office','Class','Restaurant','Electricity']].where(occ_year['DayType']=='Weekend', 0, inplace=True)\n",
    "occupancy = occupancy.drop(['Date', 'DayType'], axis=1) # drop date and day type\n",
    "occupancy.Electricity.sum()"
   ]
  },
  {
   "cell_type": "code",
   "execution_count": 66,
   "metadata": {},
   "outputs": [
    {
     "data": {
      "text/plain": [
       "3654"
      ]
     },
     "execution_count": 66,
     "metadata": {},
     "output_type": "execute_result"
    }
   ],
   "source": [
    "# Define occupancy and electricity profiles\n",
    "occ_off = [0, 0, 0, 0, 0, 0, 0, 0.2, 0.4, 0.6, 0.8, 0.8, 0.4, 0.6, 0.8, 0.8, 0.4, 0.2, 0, 0, 0, 0, 0, 0]\n",
    "occ_class = [0, 0, 0, 0, 0, 0, 0, 0.4, 0.6, 1, 1, 0.8, 0.2, 0.6, 1, 0.8, 0.8, 0.4, 0, 0, 0, 0, 0, 0]\n",
    "occ_can = [0, 0, 0, 0, 0, 0, 0, 0, 0.4, 0.2, 0.4, 1, 0.4, 0.2, 0.4, 0, 0, 0, 0, 0, 0, 0, 0, 0]\n",
    "weekday_elec = [0, 0, 0, 0, 0, 0, 0, 1, 1, 1, 1, 1, 1, 1, 1, 1, 1, 1, 1, 1, 1, 0, 0, 0]\n",
    "\n",
    "# Create a date range\n",
    "start_date = '2021-01-01'\n",
    "end_date = '2022-01-01'\n",
    "date_range = pd.date_range(start=start_date, end=end_date, freq='H', inclusive='right')\n",
    "\n",
    "occupancy = occ_all # initialize\n",
    "while len(occupancy) < len(date_range): #extend to a year\n",
    "    occupancy= pd.concat([occupancy, occ_all], ignore_index=True)\n",
    "\n",
    "# Create the occupancy DataFrame\n",
    "occupancy.index = date_range\n",
    "occupancy.loc[(date_range.weekday >= 5), ['Office', 'Class', 'Restaurant', 'Electricity']] = 0\n",
    "#occupancy['DayType'] = np.where(occupancy.index.weekday < 5, 'Weekday', 'Weekend')\n",
    "#occupancy.loc[occupancy['DayType'] == 'Weekend', ['Office', 'Class', 'Restaurant', 'Electricity']] = 0\n",
    "#occupancy.drop(['DayType'], axis=1, inplace=True)\n",
    "#occupancy.reset_index(inplace=True, drop = True)\n",
    "occupancy.head(50)\n",
    "occupancy.Electricity.sum()\n"
   ]
  },
  {
   "cell_type": "code",
   "execution_count": 715,
   "metadata": {},
   "outputs": [],
   "source": [
    "# Heat gains from people (Office, Restaurant, Classroom)\n",
    "rooms = pd.DataFrame([{'Office':5, 'Class':23.3, 'Restaurant':35,  'Others':0},{'Office':0.3,'Class':0.35, 'Restaurant':0.05,  'Others':0.3}], index=['Heat gains', 'Area share'])\n",
    "# Share areas (Office, Restaurant, Classroom)\n",
    "building_id = 'BS'\n",
    "\n",
    "q = pd.DataFrame(index=occupancy.index, columns=occupancy.columns) # initialize\n",
    "for roomType in ['Office', 'Class', 'Restaurant']:\n",
    "    q[roomType] = occupancy[roomType].values* rooms.loc['Heat gains', roomType] * rooms.loc['Area share', roomType]\n",
    "# scaling factor per room type\n",
    "# hourly heat gains per m2 from people according to occupancy for each room type (column name)\n",
    "#q.drop(['Electricity'], axis=1, inplace=True) # drop electricity\n",
    "q['All heat'] = q_people.sum(axis=1)\n",
    "#q_people = occupancy[['Office', 'Class', 'Restaurant']].mul(rooms.loc['Scaling factor',['Office', 'Class', 'Restaurant']]).sum(axis=1) # hourly heat gains per m2 from people according to occupancy    "
   ]
  },
  {
   "cell_type": "code",
   "execution_count": 716,
   "metadata": {},
   "outputs": [],
   "source": [
    "#Elec gains\n",
    "cf = 1000/3654 # conversion factor from kWh to W, rescale to operating hours\n",
    "buildings['Elec/area'] = buildings.apply(lambda x: x.Elec*cf/x.Ground, axis=1) # W/m2 h, hourly elec consumption, by buildings \n",
    "q_elec = buildings['Elec/area'].loc[buildings.Name==building_id]# hourly heat gains per m2 from people according to occupancy and room type\n",
    "\n",
    "\n",
    "q.loc[occupancy['Electricity'] == 1, 'Electricity'] = q_elec.iloc[0]"
   ]
  },
  {
   "cell_type": "code",
   "execution_count": null,
   "metadata": {},
   "outputs": [],
   "source": [
    "\n"
   ]
  },
  {
   "cell_type": "code",
   "execution_count": 757,
   "metadata": {},
   "outputs": [
    {
     "name": "stdout",
     "output_type": "stream",
     "text": [
      "4.490321126760563 3.9253615973268277 164.19859154929577\n"
     ]
    }
   ],
   "source": [
    "q=q.fillna(0)\n",
    "A_th = buildings.Ground.loc[buildings.Name==building_id].values[0]\n",
    "# m2, floor area\n",
    "T_int = 21 # degC, internal temperature\n",
    "T_ext = weather.Temp.iloc[0:len(date_range)] # degC, external temperature\n",
    "irr = weather.Irr.iloc[0:len(date_range)] # W/m2, solar irradiance\n",
    "f_el=0.8    # fraction of elec consumption that is converted to heat\n",
    "T_th = 16\n",
    "\n",
    "q_elec = q.loc[:,['Electricity']]\n",
    "q_people = q.loc[:,['All heat']]\n",
    "\n",
    "\n",
    "cutoff_indicator = ((T_ext >= T_th -1) & (T_ext <= T_th + 1))\n",
    "\n",
    "#q_elec_mean = q_elec.loc[cutoff_indicator].mean(axis=0)\n",
    "q_people_mean = q_people[cutoff_indicator].mean()[0]\n",
    "q_elec_mean = q_elec[cutoff_indicator].mean()[0]\n",
    "irr_mean = irr[cutoff_indicator].mean()\n",
    "#Q_th =A_th* (k_th*(T_int-T_ext)- k_sun*irr -q_elec*f_el) # W, hourly heat gains from elec and heat transfer through the envelope\n",
    "\n",
    "print(q_people_mean, q_elec_mean, irr_mean)"
   ]
  },
  {
   "cell_type": "code",
   "execution_count": 718,
   "metadata": {},
   "outputs": [
    {
     "ename": "ValueError",
     "evalue": "The truth value of a Series is ambiguous. Use a.empty, a.bool(), a.item(), a.any() or a.all().",
     "output_type": "error",
     "traceback": [
      "\u001b[1;31m---------------------------------------------------------------------------\u001b[0m",
      "\u001b[1;31mValueError\u001b[0m                                Traceback (most recent call last)",
      "\u001b[1;32m~\\AppData\\Local\\Temp\\ipykernel_12984\\3702924348.py\u001b[0m in \u001b[0;36m?\u001b[1;34m()\u001b[0m\n\u001b[0;32m     20\u001b[0m \u001b[1;33m\u001b[0m\u001b[0m\n\u001b[0;32m     21\u001b[0m     \u001b[0mheating_indicator\u001b[0m \u001b[1;33m=\u001b[0m \u001b[1;33m(\u001b[0m\u001b[1;33m(\u001b[0m\u001b[0mT_ext\u001b[0m \u001b[1;33m<=\u001b[0m \u001b[0mT_th\u001b[0m\u001b[1;33m)\u001b[0m \u001b[1;33m&\u001b[0m \u001b[1;33m(\u001b[0m\u001b[0mh\u001b[0m\u001b[1;33m>=\u001b[0m\u001b[1;36m0\u001b[0m\u001b[1;33m)\u001b[0m\u001b[1;33m)\u001b[0m\u001b[1;33m\u001b[0m\u001b[1;33m\u001b[0m\u001b[0m\n\u001b[0;32m     22\u001b[0m     \u001b[0mf\u001b[0m \u001b[1;33m=\u001b[0m \u001b[0mh\u001b[0m\u001b[1;33m[\u001b[0m\u001b[0mheating_indicator\u001b[0m\u001b[1;33m]\u001b[0m\u001b[1;33m.\u001b[0m\u001b[0msum\u001b[0m\u001b[1;33m(\u001b[0m\u001b[1;33m)\u001b[0m \u001b[1;33m-\u001b[0m \u001b[0mQ_th\u001b[0m \u001b[1;31m# only sum when heating is needed\u001b[0m\u001b[1;33m\u001b[0m\u001b[1;33m\u001b[0m\u001b[0m\n\u001b[0;32m     23\u001b[0m         \u001b[1;31m# Check for convergence\u001b[0m\u001b[1;33m\u001b[0m\u001b[1;33m\u001b[0m\u001b[0m\n\u001b[1;32m---> 24\u001b[1;33m     \u001b[1;32mif\u001b[0m \u001b[0mabs\u001b[0m\u001b[1;33m(\u001b[0m\u001b[0mh\u001b[0m\u001b[1;33m.\u001b[0m\u001b[0mall\u001b[0m\u001b[1;33m(\u001b[0m\u001b[1;33m)\u001b[0m\u001b[1;33m)\u001b[0m \u001b[1;33m<\u001b[0m \u001b[0mtol\u001b[0m \u001b[1;32mand\u001b[0m \u001b[0mabs\u001b[0m\u001b[1;33m(\u001b[0m\u001b[0mg\u001b[0m\u001b[1;33m.\u001b[0m\u001b[0mall\u001b[0m\u001b[1;33m(\u001b[0m\u001b[1;33m)\u001b[0m\u001b[1;33m)\u001b[0m \u001b[1;33m<\u001b[0m \u001b[0mtol\u001b[0m\u001b[1;33m:\u001b[0m\u001b[1;33m\u001b[0m\u001b[1;33m\u001b[0m\u001b[0m\n\u001b[0m\u001b[0;32m     25\u001b[0m         \u001b[1;31m#return x, y\u001b[0m\u001b[1;33m\u001b[0m\u001b[1;33m\u001b[0m\u001b[0m\n\u001b[0;32m     26\u001b[0m         \u001b[1;32mbreak\u001b[0m\u001b[1;33m\u001b[0m\u001b[1;33m\u001b[0m\u001b[0m\n\u001b[0;32m     27\u001b[0m     \u001b[1;31m# Calculate the Jacobian matrix\u001b[0m\u001b[1;33m\u001b[0m\u001b[1;33m\u001b[0m\u001b[0m\n",
      "\u001b[1;32mc:\\Users\\jamil\\anaconda3\\envs\\ada\\lib\\site-packages\\pandas\\core\\generic.py\u001b[0m in \u001b[0;36m?\u001b[1;34m(self)\u001b[0m\n\u001b[0;32m   1464\u001b[0m     \u001b[1;33m@\u001b[0m\u001b[0mfinal\u001b[0m\u001b[1;33m\u001b[0m\u001b[1;33m\u001b[0m\u001b[0m\n\u001b[0;32m   1465\u001b[0m     \u001b[1;32mdef\u001b[0m \u001b[0m__nonzero__\u001b[0m\u001b[1;33m(\u001b[0m\u001b[0mself\u001b[0m\u001b[1;33m)\u001b[0m \u001b[1;33m->\u001b[0m \u001b[0mNoReturn\u001b[0m\u001b[1;33m:\u001b[0m\u001b[1;33m\u001b[0m\u001b[1;33m\u001b[0m\u001b[0m\n\u001b[1;32m-> 1466\u001b[1;33m         raise ValueError(\n\u001b[0m\u001b[0;32m   1467\u001b[0m             \u001b[1;34mf\"The truth value of a {type(self).__name__} is ambiguous. \"\u001b[0m\u001b[1;33m\u001b[0m\u001b[1;33m\u001b[0m\u001b[0m\n\u001b[0;32m   1468\u001b[0m             \u001b[1;34m\"Use a.empty, a.bool(), a.item(), a.any() or a.all().\"\u001b[0m\u001b[1;33m\u001b[0m\u001b[1;33m\u001b[0m\u001b[0m\n\u001b[0;32m   1469\u001b[0m         )\n",
      "\u001b[1;31mValueError\u001b[0m: The truth value of a Series is ambiguous. Use a.empty, a.bool(), a.item(), a.any() or a.all()."
     ]
    }
   ],
   "source": [
    "max_iter=100\n",
    "tol=1e-6\n",
    "\n",
    "x0=10\n",
    "y0=1\n",
    "\n",
    "irr_mean = 205.10526315789474\n",
    "q_elec_mean = 43298.14128362253/A_th\n",
    "#def newton_raphson_2d(x0, y0, tol=1e-6, max_iter=100):\n",
    "x = x0\n",
    "y = y0\n",
    "iteration = 0\n",
    "\n",
    "building_id = 'BS'\n",
    "Q_th = buildings.Heat.loc[buildings.Name==building_id]\n",
    "while iteration < max_iter:\n",
    "    # Calculate the function values\n",
    "    h = A_th* ((x*(T_int-T_ext)- y*irr)-(q_elec*f_el)) # W, hourly heat gains from elec and heat transfer through the envelope\n",
    "    g = A_th* (x*(T_int-T_th)- y*irr_mean -q_elec_mean*f_el) # W, hourly heat gains from elec and heat transfer through the envelope\n",
    "\n",
    "    heating_indicator = ((T_ext <= T_th) & (h>=0)) \n",
    "    f = h[heating_indicator].sum() - Q_th # only sum when heating is needed\n",
    "        # Check for convergence\n",
    "    if abs(h.all()) < tol and abs(g.all()) < tol:\n",
    "        #return x, y\n",
    "        break\n",
    "    # Calculate the Jacobian matrix\n",
    "    J =A_th * [ [(T_int-T_ext).sum(axis=1), -irr.sum(axis=1)],\n",
    "                [T_int-T_th, -irr_mean]]\n",
    "\n",
    "    # Calculate the update step\n",
    "    delta = [-f, -g]\n",
    "\n",
    "    # Solve the linear system using matrix inversion\n",
    "    delta_x, delta_y = [sum(J[i][j] * delta[j] for j in range(2)) for i in range(2)]\n",
    "\n",
    "    # Update x and y\n",
    "    x += delta_x\n",
    "    y += delta_y\n",
    "\n",
    "    iteration += 1\n",
    "# Initial guess\n",
    "x0, y0 = 10.0, 1.0\n",
    "\n",
    "# Call the Newton-Raphson method\n",
    "solution = newton_raphson_2d(x0, y0)\n",
    "print(\"Roots (x, y):\", solution)\n"
   ]
  }
 ],
 "metadata": {
  "kernelspec": {
   "display_name": "ada",
   "language": "python",
   "name": "python3"
  },
  "language_info": {
   "codemirror_mode": {
    "name": "ipython",
    "version": 3
   },
   "file_extension": ".py",
   "mimetype": "text/x-python",
   "name": "python",
   "nbconvert_exporter": "python",
   "pygments_lexer": "ipython3",
   "version": "3.9.18"
  },
  "orig_nbformat": 4
 },
 "nbformat": 4,
 "nbformat_minor": 2
}
